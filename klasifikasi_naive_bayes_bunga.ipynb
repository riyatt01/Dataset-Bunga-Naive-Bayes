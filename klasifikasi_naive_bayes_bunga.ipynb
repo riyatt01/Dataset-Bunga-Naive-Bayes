{
 "cells": [
  {
   "cell_type": "markdown",
   "id": "0e2f5337",
   "metadata": {},
   "source": [
    "# 📊 Proyek Data Mining: Klasifikasi Jenis Bunga dengan Naive Bayes\n",
    "Notebook ini melakukan eksperimen klasifikasi menggunakan algoritma Naive Bayes pada dataset Iris."
   ]
  },
  {
   "cell_type": "code",
   "execution_count": null,
   "id": "273df99a",
   "metadata": {},
   "outputs": [],
   "source": [
    "import pandas as pd\n",
    "import seaborn as sns\n",
    "import matplotlib.pyplot as plt\n",
    "from sklearn.model_selection import train_test_split\n",
    "from sklearn.naive_bayes import GaussianNB\n",
    "from sklearn.metrics import classification_report, confusion_matrix, accuracy_score"
   ]
  },
  {
   "cell_type": "markdown",
   "id": "519a16cc",
   "metadata": {},
   "source": [
    "## 1. Load dan Eksplorasi Dataset"
   ]
  },
  {
   "cell_type": "code",
   "execution_count": null,
   "id": "2836b53e",
   "metadata": {},
   "outputs": [],
   "source": [
    "# Load dataset Iris\n",
    "df = pd.read_csv('bunga.csv')\n",
    "df.head()"
   ]
  },
  {
   "cell_type": "code",
   "execution_count": null,
   "id": "ce5c547c",
   "metadata": {},
   "outputs": [],
   "source": [
    "# Info ringkas\n",
    "df.info()"
   ]
  },
  {
   "cell_type": "code",
   "execution_count": null,
   "id": "5f1effa3",
   "metadata": {},
   "outputs": [],
   "source": [
    "# Lihat distribusi kelas\n",
    "sns.countplot(x='species', data=df)\n",
    "plt.title('Distribusi Kelas (Target)')\n",
    "plt.show()"
   ]
  },
  {
   "cell_type": "markdown",
   "id": "853aacc8",
   "metadata": {},
   "source": [
    "## 2. Preprocessing Data"
   ]
  },
  {
   "cell_type": "code",
   "execution_count": null,
   "id": "88f57d77",
   "metadata": {},
   "outputs": [],
   "source": [
    "# Pisahkan fitur dan label\n",
    "X = df.drop('species', axis=1)\n",
    "y = df['species']"
   ]
  },
  {
   "cell_type": "code",
   "execution_count": null,
   "id": "0c9c2513",
   "metadata": {},
   "outputs": [],
   "source": [
    "# Split data menjadi train dan test\n",
    "X_train, X_test, y_train, y_test = train_test_split(X, y, test_size=0.3, random_state=42)"
   ]
  },
  {
   "cell_type": "markdown",
   "id": "1c3a2369",
   "metadata": {},
   "source": [
    "## 3. Pelatihan Model Klasifikasi Naive Bayes"
   ]
  },
  {
   "cell_type": "code",
   "execution_count": null,
   "id": "b083c751",
   "metadata": {},
   "outputs": [],
   "source": [
    "# Inisialisasi dan latih model\n",
    "model = GaussianNB()\n",
    "model.fit(X_train, y_train)"
   ]
  },
  {
   "cell_type": "markdown",
   "id": "ec3afe04",
   "metadata": {},
   "source": [
    "## 4. Evaluasi Model"
   ]
  },
  {
   "cell_type": "code",
   "execution_count": null,
   "id": "149dfd4b",
   "metadata": {},
   "outputs": [],
   "source": [
    "# Prediksi\n",
    "y_pred = model.predict(X_test)\n",
    "\n",
    "# Evaluasi\n",
    "print('Akurasi:', accuracy_score(y_test, y_pred))\n",
    "print('\\nClassification Report:\\n', classification_report(y_test, y_pred))"
   ]
  },
  {
   "cell_type": "code",
   "execution_count": null,
   "id": "0fa91288",
   "metadata": {},
   "outputs": [],
   "source": [
    "# Confusion matrix\n",
    "cm = confusion_matrix(y_test, y_pred)\n",
    "sns.heatmap(cm, annot=True, fmt='d', cmap='Blues', xticklabels=model.classes_, yticklabels=model.classes_)\n",
    "plt.xlabel('Predicted')\n",
    "plt.ylabel('Actual')\n",
    "plt.title('Confusion Matrix')\n",
    "plt.show()"
   ]
  }
 ],
 "metadata": {},
 "nbformat": 4,
 "nbformat_minor": 5
}